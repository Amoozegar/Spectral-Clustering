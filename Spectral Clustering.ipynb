{
 "cells": [
  {
   "cell_type": "code",
   "execution_count": 5,
   "metadata": {},
   "outputs": [],
   "source": [
    "import pandas as pd\n",
    "from os.path import abspath, exists\n",
    "from scipy import sparse\n",
    "import numpy as np\n",
    "from matplotlib import pyplot as plt\n",
    "from sklearn.cluster import KMeans\n",
    "import scipy\n",
    "import collections\n",
    "import time \n",
    "import sys"
   ]
  },
  {
   "cell_type": "code",
   "execution_count": 6,
   "metadata": {},
   "outputs": [],
   "source": [
    "def removeIsolatedNodes(A):\n",
    "    \"\"\"\n",
    "    this function takes A matrix as input and removes all isolated nodes\n",
    "    \"\"\"\n",
    "    i = 1\n",
    "    cn=0\n",
    "    while(i<len(A)): \n",
    "        #node i is isolated\n",
    "        if((sum(A[i,:]) == 0 and sum(A[:,i]) == 0)):\n",
    "        #remove its related column\n",
    "            A = np.delete(A, i, 0) \n",
    "            A = np.delete(A, i, 1)\n",
    "            cn=1+cn\n",
    "        else:\n",
    "            i = i + 1\n",
    "    return A"
   ]
  },
  {
   "cell_type": "code",
   "execution_count": 7,
   "metadata": {},
   "outputs": [],
   "source": [
    "def isSymmetric(mat, N): \n",
    "    for i in range(N): \n",
    "        for j in range(N): \n",
    "            if (mat[i][j] != mat[j][i]): \n",
    "                return False\n",
    "    return True"
   ]
  },
  {
   "cell_type": "code",
   "execution_count": 8,
   "metadata": {},
   "outputs": [],
   "source": [
    "# read in node data\n",
    "nodes = pd.read_csv('nodes.txt', quotechar=\"|\", delimiter='\\t', header=None)\n",
    "nodes.columns = ['node', 'blog','political orientation','B']\n",
    "\n",
    "# read in edge data\n",
    "edges = pd.read_csv('edges.txt', quotechar=\"|\", delimiter='\\t', header=None)\n",
    "edges.columns = ['from','to']\n",
    "\n",
    "#create adjacency matrix\n",
    "A = np.zeros((1490,1490))\n",
    "\n",
    "for j in range(len(edges)):\n",
    "    if (int(edges.loc[j]['from']) != int(edges.loc[j]['to'])):\n",
    "        A[int(edges.loc[j]['from'])-1][int(edges.loc[j]['to'])-1] = 1\n",
    "        A[int(edges.loc[j]['to'])-1][int(edges.loc[j]['from'])-1] = 1\n",
    "    \n",
    "A = removeIsolatedNodes(A)\n",
    "\n",
    "# saving non zero nodes index after removing zeros\n",
    "noneZeroNodes =[]\n",
    "for i in range(len(A)):   \n",
    "    if sum(A[i,:])>0:\n",
    "       noneZeroNodes.append(i) \n",
    "\n",
    "# calculate degree matrix\n",
    "D = np.zeros((len(A),len(A)))\n",
    "for i in range(len(A)): \n",
    "    D[i][i] = sum(A[i,:])\n",
    "    \n",
    "    \n",
    "# calculate laplasian matrix\n",
    "L = D - A\n",
    "\n",
    "#calculate eigenvalues and eigenvectors\n",
    "v, s, _ = np.linalg.svd(L)\n",
    "v = np.flip(v, 1)"
   ]
  },
  {
   "cell_type": "code",
   "execution_count": 6,
   "metadata": {},
   "outputs": [],
   "source": [
    "maximumNo_k = 3\n",
    "# maximumNo_k = 200\n",
    "mismatch_vector = []\n",
    "#iterating through different values of k\n",
    "for k in range(maximumNo_k):\n",
    "    k=(k+2)\n",
    "    \n",
    "    vt = v[:, 0:k]\n",
    "\n",
    "    kmeans = KMeans(n_clusters=k,init=\"random\").fit(vt)\n",
    "    idx = kmeans.labels_\n",
    "    \n",
    "    trueLabel = []\n",
    "    majority =[]\n",
    "    mismatch =[]\n",
    "    PointsIncluster  = []\n",
    "    for c in range(k):\n",
    "        index_tuple = np.where(idx==c) \n",
    "        #index of all points in cluster k=j+1\n",
    "        cluster_index = index_tuple[0] \n",
    "\n",
    "        if (len(cluster_index)>0):\n",
    "            trueLabel = []\n",
    "            for c_indx in cluster_index:\n",
    "                for nzn in noneZeroNodes: #this index starts from 0\n",
    "                    if (c_indx==nzn):\n",
    "                        trueLabel.append(nodes.loc[nzn+1]['political orientation'])\n",
    "            occurrences = collections.Counter(trueLabel)\n",
    "            PointsIncluster.append(len(cluster_index))\n",
    "            if (occurrences[0] > occurrences[1]):\n",
    "                majority.append(0)\n",
    "                mismatch.append(float(occurrences[1]) / float(len(cluster_index)))\n",
    "            else:\n",
    "                mismatch.append (float(occurrences[0]) / float(len(cluster_index)))\n",
    "\n",
    "    mismatch_sum = 0        \n",
    "    for i,m in enumerate(mismatch):\n",
    "        mismatch_sum = (m*PointsIncluster[i]) + mismatch_sum\n",
    "    mismatch_rate = mismatch_sum/len(noneZeroNodes)\n",
    "    mismatch_vector.append(mismatch_rate)"
   ]
  },
  {
   "cell_type": "code",
   "execution_count": 11,
   "metadata": {},
   "outputs": [
    {
     "data": {
      "text/plain": [
       "[0.3815359477124183, 0.3815359477124183, 0.3815359477124183]"
      ]
     },
     "execution_count": 11,
     "metadata": {},
     "output_type": "execute_result"
    }
   ],
   "source": [
    "mismatch_vector"
   ]
  },
  {
   "cell_type": "code",
   "execution_count": 17,
   "metadata": {},
   "outputs": [
    {
     "data": {
      "image/png": "[encoded data removed]",
      "text/plain": [
       "<matplotlib.figure.Figure at 0xe01d240>"
      ]
     },
     "metadata": {},
     "output_type": "display_data"
    }
   ],
   "source": [
    "k=2\n",
    "k_input=[]\n",
    "while k<202:\n",
    "    k_input.append(k)\n",
    "    k = k+1\n",
    "plt.plot(k_input,mismatch_vector )\n",
    "plt.title('mismatch rate vs different values of k')\n",
    "plt.xlabel(\"k\")\n",
    "plt.ylabel(\"mismatch rate\")\n",
    "plt.show()"
   ]
  },
  {
   "cell_type": "code",
   "execution_count": 9,
   "metadata": {},
   "outputs": [
    {
     "data": {
      "text/plain": [
       "True"
      ]
     },
     "execution_count": 9,
     "metadata": {},
     "output_type": "execute_result"
    }
   ],
   "source": [
    "isSymmetric(A, len(A))"
   ]
  },
  {
   "cell_type": "code",
   "execution_count": null,
   "metadata": {},
   "outputs": [],
   "source": []
  }
 ],
 "metadata": {
  "kernelspec": {
   "display_name": "Python 2",
   "language": "python",
   "name": "python2"
  },
  "language_info": {
   "codemirror_mode": {
    "name": "ipython",
    "version": 2
   },
   "file_extension": ".py",
   "mimetype": "text/x-python",
   "name": "python",
   "nbconvert_exporter": "python",
   "pygments_lexer": "ipython2",
   "version": "2.7.14"
  }
 },
 "nbformat": 4,
 "nbformat_minor": 2
}
